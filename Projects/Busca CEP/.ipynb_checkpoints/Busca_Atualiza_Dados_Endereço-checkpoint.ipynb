{
 "cells": [
  {
   "cell_type": "markdown",
   "id": "65204c82",
   "metadata": {},
   "source": [
    "# Importa Bibliotecas"
   ]
  },
  {
   "cell_type": "code",
   "execution_count": null,
   "id": "85b8e4fe",
   "metadata": {},
   "outputs": [],
   "source": [
    "import pandas as pd\n",
    "import requests\n",
    "import json\n",
    "import time"
   ]
  },
  {
   "cell_type": "markdown",
   "id": "0237a13f",
   "metadata": {},
   "source": [
    "# Cria Função Busca CEP"
   ]
  },
  {
   "cell_type": "code",
   "execution_count": null,
   "id": "a2cc608f",
   "metadata": {},
   "outputs": [],
   "source": [
    "def buscaCep(cep):\n",
    "    try:\n",
    "        url = f'https://viacep.com.br/ws/{cep}/json/'\n",
    "        response = requests.get(url)\n",
    "        response.raise_for_status()  # Raises an exception for 4XX/5XX status codes\n",
    "        dic = response.json()\n",
    "        ibge = dic.get(\"ibge\")\n",
    "        print(f'CEP {cep} encontrado. Código IBGE: {ibge}')\n",
    "        return ibge\n",
    "    except requests.exceptions.RequestException:\n",
    "        print(f'Erro de conexão para o CEP {cep}. Verifique sua conexão com a internet e tente novamente.')\n",
    "    except json.JSONDecodeError:\n",
    "        print(f'Erro ao decodificar a resposta JSON para o CEP {cep}.')\n",
    "    except KeyError:\n",
    "        print(f'CEP {cep} não encontrado.')\n",
    "    except Exception as e:\n",
    "        print(f'Ocorreu um erro inesperado para o CEP {cep}: {e}')\n",
    "\n",
    "# Lendo a planilha Excel\n",
    "try:\n",
    "    df = pd.read_excel(r'C:\\Users\\Admin\\OneDrive\\Documentos\\GitHub\\Python\\Projects\\Busca CEP\\CEP.xlsx', engine='openpyxl', dtype={'CEP': str})\n",
    "\n",
    "    # Adicionando uma nova coluna para o código IBGE\n",
    "    df['IBGE'] = None  # Initialize the IBGE column with None values\n",
    "    \n",
    "    # Iterating through rows\n",
    "    for index, row in df.iterrows():\n",
    "        cep = row['CEP']\n",
    "        \n",
    "        # Check if it's the last row\n",
    "        if index == len(df) - 1:\n",
    "            print(\"Último CEP processado. Interrompendo o processo.\")\n",
    "            break\n",
    "        \n",
    "        ibge = buscaCep(cep)\n",
    "        df.at[index, 'IBGE'] = ibge\n",
    "        time.sleep(1)  # Pause for 1 second between each request\n",
    "\n",
    "    # Salvando a planilha com o código IBGE\n",
    "    df.to_excel(r'C:\\Users\\Admin\\OneDrive\\Documentos\\GitHub\\Python\\Projects\\Busca CEP\\CEP.xlsx', index=False, engine='openpyxl')\n",
    "\n",
    "    print('Código IBGE foi adicionado à planilha com sucesso.')\n",
    "except FileNotFoundError:\n",
    "    print('Arquivo não encontrado. Verifique o caminho da sua planilha Excel.')\n",
    "except Exception as e:\n",
    "    print(f'Ocorreu um erro inesperado ao processar a planilha: {e}')\n"
   ]
  }
 ],
 "metadata": {
  "kernelspec": {
   "display_name": "Python 3 (ipykernel)",
   "language": "python",
   "name": "python3"
  },
  "language_info": {
   "codemirror_mode": {
    "name": "ipython",
    "version": 3
   },
   "file_extension": ".py",
   "mimetype": "text/x-python",
   "name": "python",
   "nbconvert_exporter": "python",
   "pygments_lexer": "ipython3",
   "version": "3.11.5"
  }
 },
 "nbformat": 4,
 "nbformat_minor": 5
}
