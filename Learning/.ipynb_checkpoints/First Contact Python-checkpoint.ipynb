{
 "cells": [
  {
   "cell_type": "markdown",
   "id": "751ad9a8",
   "metadata": {},
   "source": [
    "# Criando a lista com os números de 1 a 100"
   ]
  },
  {
   "cell_type": "code",
   "execution_count": 1,
   "id": "668f891b",
   "metadata": {},
   "outputs": [],
   "source": [
    "numeros = list(range(1, 101))"
   ]
  },
  {
   "cell_type": "markdown",
   "id": "aeeaab06",
   "metadata": {},
   "source": [
    "# Usando list comprehension para filtrar os números pares divisíveis por 4"
   ]
  },
  {
   "cell_type": "code",
   "execution_count": 2,
   "id": "f324e487",
   "metadata": {},
   "outputs": [],
   "source": [
    "numeros_divisiveis_por_4 = [num for num in numeros if num % 2 == 0 and num % 4 == 0]"
   ]
  },
  {
   "cell_type": "markdown",
   "id": "f433d4c7",
   "metadata": {},
   "source": [
    "# Imprimindo os números filtrados"
   ]
  },
  {
   "cell_type": "code",
   "execution_count": 3,
   "id": "08656ea3",
   "metadata": {},
   "outputs": [
    {
     "name": "stdout",
     "output_type": "stream",
     "text": [
      "[4, 8, 12, 16, 20, 24, 28, 32, 36, 40, 44, 48, 52, 56, 60, 64, 68, 72, 76, 80, 84, 88, 92, 96, 100]\n"
     ]
    }
   ],
   "source": [
    "print(numeros_divisiveis_por_4)"
   ]
  },
  {
   "cell_type": "markdown",
   "id": "451862e4",
   "metadata": {},
   "source": [
    "# END"
   ]
  },
  {
   "cell_type": "code",
   "execution_count": null,
   "id": "b4a93ba1",
   "metadata": {},
   "outputs": [],
   "source": []
  }
 ],
 "metadata": {
  "kernelspec": {
   "display_name": "Python 3 (ipykernel)",
   "language": "python",
   "name": "python3"
  },
  "language_info": {
   "codemirror_mode": {
    "name": "ipython",
    "version": 3
   },
   "file_extension": ".py",
   "mimetype": "text/x-python",
   "name": "python",
   "nbconvert_exporter": "python",
   "pygments_lexer": "ipython3",
   "version": "3.11.5"
  }
 },
 "nbformat": 4,
 "nbformat_minor": 5
}
