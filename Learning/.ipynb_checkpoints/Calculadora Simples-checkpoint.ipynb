{
 "cells": [
  {
   "cell_type": "code",
   "execution_count": 1,
   "id": "4ec01366",
   "metadata": {},
   "outputs": [
    {
     "name": "stdout",
     "output_type": "stream",
     "text": [
      "Bem-vindo à calculadora\n"
     ]
    }
   ],
   "source": [
    "print(\"Bem-vindo à calculadora\")"
   ]
  },
  {
   "cell_type": "code",
   "execution_count": 2,
   "id": "afc0fd51",
   "metadata": {},
   "outputs": [
    {
     "name": "stdout",
     "output_type": "stream",
     "text": [
      "Insira o primeiro número: 0\n"
     ]
    }
   ],
   "source": [
    "while True:\n",
    "    try:\n",
    "        num1 = float(input(\"Insira o primeiro número: \"))\n",
    "        break\n",
    "    except ValueError:\n",
    "        print(\"Por favor, insira um número válido.\")"
   ]
  },
  {
   "cell_type": "code",
   "execution_count": 3,
   "id": "0426e78c",
   "metadata": {},
   "outputs": [
    {
     "name": "stdout",
     "output_type": "stream",
     "text": [
      "Insira o segundo número: 5\n"
     ]
    }
   ],
   "source": [
    "while True:\n",
    "    try:\n",
    "        num2 = float(input(\"Insira o segundo número: \"))\n",
    "        break\n",
    "    except ValueError:\n",
    "        print(\"Por favor, insira um número válido.\")"
   ]
  },
  {
   "cell_type": "code",
   "execution_count": 4,
   "id": "ade37a51",
   "metadata": {},
   "outputs": [
    {
     "name": "stdout",
     "output_type": "stream",
     "text": [
      "Selecione uma operação (+, -, *, /): /\n"
     ]
    }
   ],
   "source": [
    "while True:\n",
    "    operacao = input(\"Selecione uma operação (+, -, *, /): \")\n",
    "    if operacao in ['+', '-', '*', '/']:\n",
    "        if operacao == '/' and num2 == 0:\n",
    "            print(\"Não é possível dividir por zero. Insira um número diferente de zero.\")\n",
    "        else:\n",
    "            break\n",
    "    else:\n",
    "        print(\"Operação inválida. Por favor, selecione uma operação válida.\")"
   ]
  },
  {
   "cell_type": "code",
   "execution_count": 5,
   "id": "018c5d93",
   "metadata": {},
   "outputs": [
    {
     "name": "stdout",
     "output_type": "stream",
     "text": [
      "O resultado é: 0.0\n"
     ]
    }
   ],
   "source": [
    "if operacao == \"+\":\n",
    "    resultado = num1 + num2\n",
    "elif operacao == \"-\":\n",
    "    resultado = num1 - num2\n",
    "elif operacao == \"*\":\n",
    "    resultado = num1 * num2\n",
    "elif operacao == \"/\":\n",
    "    resultado = num1 / num2\n",
    "print(\"O resultado é:\", resultado)"
   ]
  }
 ],
 "metadata": {
  "kernelspec": {
   "display_name": "Python 3 (ipykernel)",
   "language": "python",
   "name": "python3"
  },
  "language_info": {
   "codemirror_mode": {
    "name": "ipython",
    "version": 3
   },
   "file_extension": ".py",
   "mimetype": "text/x-python",
   "name": "python",
   "nbconvert_exporter": "python",
   "pygments_lexer": "ipython3",
   "version": "3.11.5"
  }
 },
 "nbformat": 4,
 "nbformat_minor": 5
}
