{
 "cells": [
  {
   "cell_type": "code",
   "execution_count": 1,
   "id": "4ec01366",
   "metadata": {},
   "outputs": [
    {
     "name": "stdout",
     "output_type": "stream",
     "text": [
      "Bem-vindo à calculadora\n"
     ]
    }
   ],
   "source": [
    "print(\"Bem-vindo à calculadora\")"
   ]
  },
  {
   "cell_type": "code",
   "execution_count": 2,
   "id": "afc0fd51",
   "metadata": {},
   "outputs": [
    {
     "name": "stdout",
     "output_type": "stream",
     "text": [
      "Insira o primeiro número: 5\n"
     ]
    }
   ],
   "source": [
    "num1 = float(input(\"Insira o primeiro número: \"))"
   ]
  },
  {
   "cell_type": "code",
   "execution_count": 3,
   "id": "0426e78c",
   "metadata": {},
   "outputs": [
    {
     "name": "stdout",
     "output_type": "stream",
     "text": [
      "Insira o segundo número: 8\n"
     ]
    }
   ],
   "source": [
    "num2 = float(input(\"Insira o segundo número: \"))"
   ]
  },
  {
   "cell_type": "code",
   "execution_count": 4,
   "id": "ade37a51",
   "metadata": {},
   "outputs": [
    {
     "name": "stdout",
     "output_type": "stream",
     "text": [
      "Selecione uma operação (+, -, *, /): *\n"
     ]
    }
   ],
   "source": [
    "operacao = input(\"Selecione uma operação (+, -, *, /): \")"
   ]
  },
  {
   "cell_type": "code",
   "execution_count": 5,
   "id": "863b3cec",
   "metadata": {},
   "outputs": [
    {
     "name": "stdout",
     "output_type": "stream",
     "text": [
      "O resultado é:  (40.0,)\n"
     ]
    }
   ],
   "source": [
    "if operacao == \"+\":\n",
    "    resultado = num1 + num2,\n",
    "    print(\"O resultado é: \", resultado)\n",
    "    \n",
    "elif operacao == \"-\":\n",
    "    resultado = num1 - num2,\n",
    "    print(\"O resultado é: \", resultado)\n",
    "    \n",
    "elif operacao == \"*\":\n",
    "    resultado = num1 * num2,\n",
    "    print(\"O resultado é: \", resultado)\n",
    "    \n",
    "elif operacao == \"/\":\n",
    "    resultado = num1 / num2,\n",
    "    print(\"O resultado é: \", resultado)\n",
    "    \n",
    "else:\n",
    "    print(\"Operação inválida.\")"
   ]
  }
 ],
 "metadata": {
  "kernelspec": {
   "display_name": "Python 3 (ipykernel)",
   "language": "python",
   "name": "python3"
  },
  "language_info": {
   "codemirror_mode": {
    "name": "ipython",
    "version": 3
   },
   "file_extension": ".py",
   "mimetype": "text/x-python",
   "name": "python",
   "nbconvert_exporter": "python",
   "pygments_lexer": "ipython3",
   "version": "3.11.5"
  }
 },
 "nbformat": 4,
 "nbformat_minor": 5
}
